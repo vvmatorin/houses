{
 "cells": [
  {
   "cell_type": "code",
   "execution_count": 1,
   "id": "0662cda4",
   "metadata": {
    "tags": []
   },
   "outputs": [],
   "source": [
    "import random\n",
    "\n",
    "from PIL import Image\n",
    "from sklearn.model_selection import train_test_split\n",
    "\n",
    "from houses import *"
   ]
  },
  {
   "cell_type": "code",
   "execution_count": 2,
   "id": "2e07198e",
   "metadata": {
    "tags": []
   },
   "outputs": [],
   "source": [
    "count = 1000\n",
    "canvas_size = 256\n",
    "drawing_area = (224, 256)\n",
    "floatify = True"
   ]
  },
  {
   "cell_type": "code",
   "execution_count": 3,
   "id": "dc6874f3",
   "metadata": {
    "tags": []
   },
   "outputs": [],
   "source": [
    "data = [\n",
    "    get_drawing_house_commands(\n",
    "        canvas_size=canvas_size, \n",
    "        drawing_area=random.randint(*drawing_area), \n",
    "        floatify=floatify\n",
    "    ) for _ in range(count)\n",
    "]"
   ]
  },
  {
   "cell_type": "code",
   "execution_count": 4,
   "id": "cd6c78b1",
   "metadata": {
    "tags": []
   },
   "outputs": [
    {
     "data": {
      "image/png": "[encoded data removed]",
      "text/plain": [
       "<PIL.Image.Image image mode=RGB size=256x256>"
      ]
     },
     "execution_count": 4,
     "metadata": {},
     "output_type": "execute_result"
    }
   ],
   "source": [
    "sample = random.choice(data)\n",
    "sample = draw_house_from_commands(sample, canvas_size=256, floatified=floatify)\n",
    "\n",
    "Image.fromarray(sample)"
   ]
  },
  {
   "cell_type": "code",
   "execution_count": 5,
   "id": "d63b84b0",
   "metadata": {
    "tags": []
   },
   "outputs": [
    {
     "data": {
      "text/plain": [
       "(900, 100)"
      ]
     },
     "execution_count": 5,
     "metadata": {},
     "output_type": "execute_result"
    }
   ],
   "source": [
    "train, valid = train_test_split(data, test_size=0.1, random_state=0, shuffle=True)\n",
    "\n",
    "len(train), len(valid)"
   ]
  },
  {
   "cell_type": "code",
   "execution_count": null,
   "id": "1e564986-d72e-4c6c-858a-6c668f1a1c8f",
   "metadata": {},
   "outputs": [],
   "source": []
  }
 ],
 "metadata": {
  "kernelspec": {
   "display_name": "difformers",
   "language": "python",
   "name": "difformers"
  },
  "language_info": {
   "codemirror_mode": {
    "name": "ipython",
    "version": 3
   },
   "file_extension": ".py",
   "mimetype": "text/x-python",
   "name": "python",
   "nbconvert_exporter": "python",
   "pygments_lexer": "ipython3",
   "version": "3.11.8"
  }
 },
 "nbformat": 4,
 "nbformat_minor": 5
}
